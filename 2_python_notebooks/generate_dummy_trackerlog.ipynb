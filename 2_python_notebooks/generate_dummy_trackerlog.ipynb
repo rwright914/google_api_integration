{
 "cells": [
  {
   "cell_type": "markdown",
   "metadata": {},
   "source": [
    "## DOCUMENTATION\n",
    "\n",
    "**AUTHOR**: Rebecca Wright\n",
    "\n",
    "**DATE**: 6/20/21\n",
    "\n",
    "<br></br>\n",
    "\n",
    "**PURPOSE**\n",
    "\n",
    "To create a dummy dataset of mock user \"trackerlog\" data for use in TRKR App product development.\n",
    "Program uses existing CSV file of Google Jobs API query results to create trackerlog entries.\n",
    "Program creates 50 dummy user ids, then randomly populates anywhere from 1 to 50 trackerlog entries for each user.\n",
    "While data points related to job posting remain static between entries, the following data points relating to the log entry are randomly generated and vary between entries:\n",
    "- is_active status\n",
    "- end_result status\n",
    "- date_created\n",
    "- date_updated\n",
    "\n",
    "**DEPENDANCIES**\n",
    "\n",
    "A CSV file must already exist containing the Google Jobs API query results.\n",
    "This program iteration used a file called 'job_listing_result_log_with_links.csv' containing 340 job listings.\n",
    "\n",
    "**DEVELOPMENT NOTES**\n",
    "\n",
    "This program does not protect against repeated usage of the same random job_id listing by the same user_id.\n",
    "Additional validation must be added to the FOR loop to protect against this."
   ]
  },
  {
   "cell_type": "markdown",
   "metadata": {},
   "source": [
    "<br></br>\n",
    "***\n",
    "#### IMPORTS"
   ]
  },
  {
   "cell_type": "code",
   "execution_count": null,
   "metadata": {},
   "outputs": [],
   "source": [
    "import datetime\n",
    "import random\n",
    "import pandas as pd"
   ]
  },
  {
   "cell_type": "markdown",
   "metadata": {},
   "source": [
    "<br></br>\n",
    "***\n",
    "#### FUNCTIONS"
   ]
  },
  {
   "cell_type": "code",
   "execution_count": null,
   "metadata": {},
   "outputs": [],
   "source": [
    "# returns datetime.date as 2021-05-30\n",
    "def random_apply_date():\n",
    "    start_date = datetime.date(2020, 6, 1)\n",
    "    end_date = datetime.date(2021, 4, 1)\n",
    "\n",
    "    time_between_dates = end_date - start_date\n",
    "    days_between_dates = time_between_dates.days\n",
    "    random_number_of_days = random.randrange(days_between_dates)\n",
    "    random_date = start_date + datetime.timedelta(days=random_number_of_days) \n",
    "    return(random_date)"
   ]
  },
  {
   "cell_type": "code",
   "execution_count": null,
   "metadata": {},
   "outputs": [],
   "source": [
    "# returns datetime.date as 2021-05-30\n",
    "# produces a lapsed date from apply_date between 0 and 59 (0 representes never heard back)\n",
    "def random_lapse_date(start_date):\n",
    "    random_number_of_days = random.randrange(1,60)\n",
    "    random_date = start_date + datetime.timedelta(days=random_number_of_days) \n",
    "    return(random_date)"
   ]
  },
  {
   "cell_type": "markdown",
   "metadata": {},
   "source": [
    "<br></br>\n",
    "***\n",
    "#### VARIABLES"
   ]
  },
  {
   "cell_type": "markdown",
   "metadata": {},
   "source": [
    "**Import CSV file with archived API query results**"
   ]
  },
  {
   "cell_type": "markdown",
   "metadata": {},
   "source": [
    "<div class=\"alert alert-danger\">\n",
    "  <strong>Next cell WILL NOT EXECUTE as is:</strong><br>\n",
    "    The next code cell references a local file that has not been included within the github repo.  See the <strong>Dependencies</strong> section in the above documentation for more info.\n",
    "</div>"
   ]
  },
  {
   "cell_type": "code",
   "execution_count": null,
   "metadata": {},
   "outputs": [],
   "source": [
    "jobs_df = pd.read_csv('job_listing_result_log_with_links.csv', index_col=False)"
   ]
  },
  {
   "cell_type": "code",
   "execution_count": null,
   "metadata": {},
   "outputs": [],
   "source": [
    "jobs_df.info()"
   ]
  },
  {
   "cell_type": "markdown",
   "metadata": {},
   "source": [
    "**Dummy user id values**"
   ]
  },
  {
   "cell_type": "code",
   "execution_count": null,
   "metadata": {},
   "outputs": [],
   "source": [
    "user_id_vals = range(1,51)"
   ]
  },
  {
   "cell_type": "markdown",
   "metadata": {},
   "source": [
    "**Dummy job id values from row count of imported CSV file**"
   ]
  },
  {
   "cell_type": "code",
   "execution_count": null,
   "metadata": {},
   "outputs": [],
   "source": [
    "sample_jobs_id_vals = range(jobs_df.shape[0])"
   ]
  },
  {
   "cell_type": "markdown",
   "metadata": {},
   "source": [
    "**Dummy is_active values**"
   ]
  },
  {
   "cell_type": "code",
   "execution_count": null,
   "metadata": {},
   "outputs": [],
   "source": [
    "is_active_vals = [0,1]"
   ]
  },
  {
   "cell_type": "markdown",
   "metadata": {},
   "source": [
    "**Dummy range from 1 to 50 used to randomly determine number of log entries to be generated for each user**"
   ]
  },
  {
   "cell_type": "code",
   "execution_count": null,
   "metadata": {},
   "outputs": [],
   "source": [
    "num_of_apps_vals = range(1,51)"
   ]
  },
  {
   "cell_type": "markdown",
   "metadata": {},
   "source": [
    "<br></br>\n",
    "***\n",
    "#### MAIN"
   ]
  },
  {
   "cell_type": "markdown",
   "metadata": {},
   "source": [
    "**Populate empty tracker_log dictionary using FOR loop**"
   ]
  },
  {
   "cell_type": "code",
   "execution_count": null,
   "metadata": {},
   "outputs": [],
   "source": [
    "tracker_log = {}\n",
    "index = 0\n",
    "for user in user_id_vals:\n",
    "    for x in range(random.choice(num_of_apps_vals)):\n",
    "        rand_j = random.choice(sample_jobs_id_vals)\n",
    "        rand_i = random.choice(is_active_vals)\n",
    "        if rand_i == 0:     #app is inactive and some resolution was reached\n",
    "            date_create = random_apply_date()\n",
    "            tracker_entry = {\n",
    "                            'user_id': user,\n",
    "                            'job_id': jobs_df.loc[rand_j]['job_id'],\n",
    "                            'company': jobs_df.loc[rand_j]['company_name'],\n",
    "                            'position': jobs_df.loc[rand_j]['title'],\n",
    "                            'location': jobs_df.loc[rand_j]['location'],\n",
    "                            'application_url': jobs_df.loc[rand_j]['app_url'],\n",
    "                            'is_active': rand_i,\n",
    "                            'end_result': random.choice([1,2,3]),   # 1 is a yes, 2 is a no, 3 is a maybe\n",
    "                            'date_created': str(date_create),   #application creation date\n",
    "                            'date_updated': str(random_lapse_date(date_create))\n",
    "                            }\n",
    "        else:  #app is still active or pending result (is_active status is 1)\n",
    "            tracker_entry = {\n",
    "                        'user_id': user,\n",
    "                        'job_id': jobs_df.loc[rand_j]['job_id'],\n",
    "                        'company': jobs_df.loc[rand_j]['company_name'],\n",
    "                        'position': jobs_df.loc[rand_j]['title'],\n",
    "                        'location': jobs_df.loc[rand_j]['location'],\n",
    "                        'application_url': jobs_df.loc[rand_j]['app_url'],\n",
    "                        'is_active': rand_i,\n",
    "                        'end_result': 0,\n",
    "                        'date_created': str(random_apply_date()),   #application creation date\n",
    "                        'date_updated': \"\"\n",
    "                        }\n",
    "        tracker_log[index] = tracker_entry\n",
    "        index += 1"
   ]
  },
  {
   "cell_type": "markdown",
   "metadata": {},
   "source": [
    "**Convert tracker_log dictionary to dataframe**"
   ]
  },
  {
   "cell_type": "code",
   "execution_count": null,
   "metadata": {},
   "outputs": [],
   "source": [
    "final_df = pd.DataFrame.from_dict(tracker_log, orient='index')"
   ]
  },
  {
   "cell_type": "markdown",
   "metadata": {},
   "source": [
    "**Preview dataframe**"
   ]
  },
  {
   "cell_type": "code",
   "execution_count": null,
   "metadata": {},
   "outputs": [],
   "source": [
    "final_df"
   ]
  },
  {
   "cell_type": "markdown",
   "metadata": {},
   "source": [
    "**Save tracker_log dataframe dummy data to CSV file**"
   ]
  },
  {
   "cell_type": "code",
   "execution_count": null,
   "metadata": {},
   "outputs": [],
   "source": [
    "final_df.to_csv('dummy_data_tracker_log.csv', index=False)"
   ]
  }
 ],
 "metadata": {
  "kernelspec": {
   "display_name": "Python 3",
   "language": "python",
   "name": "python3"
  },
  "language_info": {
   "codemirror_mode": {
    "name": "ipython",
    "version": 3
   },
   "file_extension": ".py",
   "mimetype": "text/x-python",
   "name": "python",
   "nbconvert_exporter": "python",
   "pygments_lexer": "ipython3",
   "version": "3.8.5"
  }
 },
 "nbformat": 4,
 "nbformat_minor": 4
}
