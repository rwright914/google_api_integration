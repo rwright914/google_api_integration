{
 "cells": [
  {
   "cell_type": "markdown",
   "metadata": {},
   "source": [
    "## DOCUMENTATION\n",
    "\n",
    "**AUTHOR**: Rebecca Wright\n",
    "\n",
    "**DATE**: 6/20/21\n",
    "\n",
    "<br></br>\n",
    "\n",
    "**PURPOSE**\n",
    "\n",
    "To create a dummy dataset of Google Jobs API search results for use creating dummy trackerlog dataset in TRKR App product development.\n",
    "Program is called upon to run a API query call up to 100 times using a FOR loop.\n",
    "Each iteration of the FOR loop offsets the query results pagination by 10 (as 10 is the default number of results returned by each query call).\n",
    "As a system wait command was not used, the results of each query call are written out as an append to a csv file, to guard against loss of query results due to timing errors.\n",
    "\n",
    "After the Google Jobs API query calls are finished, the CSV results are imported as a new sample dataframe.\n",
    "A new FOR loop API query call is made to the Google Jobs Listing API using each job result id number.\n",
    "The first apply_option link value from each call is stored in a temporary app_url list.\n",
    "The app_url_list is appended to the sample dataframe as a new column.\n",
    "The sample dataframe then contains job listings joined together with a valid application_url value.\n",
    "The dataframe is saved as CSV file 'job_listing_result_log_with_links.csv' to be imported by generate_dummy_trackerlog.ipynb.  \n",
    "\n",
    "**DEPENDANCIES**\n",
    "\n",
    "A valid secret_api_key must be obtained through <strong>https://serpapi.com/</strong>. \n",
    "\n",
    "**DEVELOPMENT NOTES**\n",
    "\n",
    "This program does not protect against timing errors within the API query FOR loop.\n",
    "A call to system sleep would be more efficient, as would reconsidering the explicit writing of each search result to the CSV.\n",
    "Current program iteration documented 34 successful API query calls, resulting in 340 job listing results, which were sufficient for initial development needs."
   ]
  },
  {
   "cell_type": "markdown",
   "metadata": {},
   "source": [
    "<br></br>\n",
    "***\n",
    "#### IMPORTS"
   ]
  },
  {
   "cell_type": "code",
   "execution_count": null,
   "metadata": {},
   "outputs": [],
   "source": [
    "from serpapi import GoogleSearch\n",
    "import pandas as pd\n",
    "from csv import writer\n",
    "\n",
    "#import api_config_file    #NOT INCLUDED in github repo"
   ]
  },
  {
   "cell_type": "markdown",
   "metadata": {},
   "source": [
    "<br></br>\n",
    "***\n",
    "#### VARIABLES"
   ]
  },
  {
   "cell_type": "markdown",
   "metadata": {},
   "source": [
    "### Api Key"
   ]
  },
  {
   "cell_type": "markdown",
   "metadata": {},
   "source": [
    "<div class=\"alert alert-danger\">\n",
    "  <strong>API KEY needed to move forward:</strong><br>\n",
    "    The next block of code WILL NOT EXECUTE unless the code is updated to include a valid SerpAPI key.  An API key is free for a 15-day trial period and can be obtained by visiting <strong>https://serpapi.com/</strong>\n",
    "</div>"
   ]
  },
  {
   "cell_type": "code",
   "execution_count": null,
   "metadata": {},
   "outputs": [],
   "source": [
    "api_key = api_config_file.api_key"
   ]
  },
  {
   "cell_type": "markdown",
   "metadata": {},
   "source": [
    "<br></br>\n",
    "***\n",
    "#### MAIN"
   ]
  },
  {
   "cell_type": "markdown",
   "metadata": {},
   "source": [
    "**Execute Google Jobs API query call**"
   ]
  },
  {
   "cell_type": "code",
   "execution_count": null,
   "metadata": {},
   "outputs": [],
   "source": [
    "for x in range(0,100):\n",
    "    index = x\n",
    "    start_var = x * 10\n",
    "    params = {\n",
    "        \"engine\": \"google_jobs\",\n",
    "        \"q\": \"UX designer new york\",\n",
    "        \"hl\": \"en\",\n",
    "        \"start\": start_var,\n",
    "        \"api_key\": api_key\n",
    "    }\n",
    "\n",
    "    search = GoogleSearch(params)\n",
    "    results = search.get_dict()\n",
    "    jobs_results = results['jobs_results']\n",
    "    df = pd.DataFrame(jobs_results)\n",
    "    df.drop(columns='thumbnail', inplace=True)\n",
    "\n",
    "    if index == 0:\n",
    "        df.to_csv('job_listing_result_log.csv', index=False)\n",
    "    else:\n",
    "        with open('job_listing_result_log.csv', 'a') as f:\n",
    "            df.to_csv(f, header=False, index=False)\n",
    "    \n",
    "    print(x)  # used to monitor FOR loop progress"
   ]
  },
  {
   "cell_type": "markdown",
   "metadata": {},
   "source": [
    "**Import Google Jobs API query results CSV**"
   ]
  },
  {
   "cell_type": "code",
   "execution_count": null,
   "metadata": {},
   "outputs": [],
   "source": [
    "sample_df = pd.read_csv('job_listing_result_log.csv')\n",
    "sample_df"
   ]
  },
  {
   "cell_type": "markdown",
   "metadata": {},
   "source": [
    "**Temporary app_url_list container**"
   ]
  },
  {
   "cell_type": "code",
   "execution_count": null,
   "metadata": {},
   "outputs": [],
   "source": [
    "app_url_list = []"
   ]
  },
  {
   "cell_type": "markdown",
   "metadata": {},
   "source": [
    "**Temporary dataframe size variable**"
   ]
  },
  {
   "cell_type": "code",
   "execution_count": null,
   "metadata": {},
   "outputs": [],
   "source": [
    "sample_df_size = sample_df.shape[0]\n",
    "sample_df_size"
   ]
  },
  {
   "cell_type": "markdown",
   "metadata": {},
   "source": [
    "**Execute Google Jobs Listing API query call**"
   ]
  },
  {
   "cell_type": "code",
   "execution_count": null,
   "metadata": {},
   "outputs": [],
   "source": [
    "for x in range(sample_df_size):\n",
    "    job_id = sample_df.loc[x]['job_id']\n",
    "    params2 = {\n",
    "        \"engine\": \"google_jobs_listing\",\n",
    "        \"q\": job_id,    # q variable holds job_id number\n",
    "        \"hl\": \"en\",\n",
    "        \"api_key\": api_key\n",
    "    }\n",
    "    search2 = GoogleSearch(params2)\n",
    "    results2 = search2.get_dict()\n",
    "    app_url_list.append(results2['apply_options'][0]['link'])"
   ]
  },
  {
   "cell_type": "markdown",
   "metadata": {},
   "source": [
    "**Append app_url_list to sample_df as new column**"
   ]
  },
  {
   "cell_type": "code",
   "execution_count": null,
   "metadata": {},
   "outputs": [],
   "source": [
    "sample_df['app_url'] = app_url_list"
   ]
  },
  {
   "cell_type": "code",
   "execution_count": null,
   "metadata": {},
   "outputs": [],
   "source": [
    "sample_df"
   ]
  },
  {
   "cell_type": "markdown",
   "metadata": {},
   "source": [
    "**Save sample job listing dataframe dummy data to CSV file**"
   ]
  },
  {
   "cell_type": "code",
   "execution_count": null,
   "metadata": {},
   "outputs": [],
   "source": [
    "sample_df.to_csv('job_listing_result_log_with_links.csv', index=False)"
   ]
  }
 ],
 "metadata": {
  "kernelspec": {
   "display_name": "Python 3",
   "language": "python",
   "name": "python3"
  },
  "language_info": {
   "codemirror_mode": {
    "name": "ipython",
    "version": 3
   },
   "file_extension": ".py",
   "mimetype": "text/x-python",
   "name": "python",
   "nbconvert_exporter": "python",
   "pygments_lexer": "ipython3",
   "version": "3.8.5"
  }
 },
 "nbformat": 4,
 "nbformat_minor": 4
}
